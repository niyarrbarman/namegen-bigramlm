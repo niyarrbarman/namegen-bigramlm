{
 "cells": [
  {
   "cell_type": "code",
   "execution_count": 50,
   "id": "31cbe315",
   "metadata": {},
   "outputs": [],
   "source": [
    "import torch\n",
    "import torch.nn.functional as F"
   ]
  },
  {
   "cell_type": "code",
   "execution_count": 5,
   "id": "d37ee930",
   "metadata": {},
   "outputs": [
    {
     "data": {
      "text/plain": [
       "(['emma', 'olivia', 'ava'], 32033)"
      ]
     },
     "execution_count": 5,
     "metadata": {},
     "output_type": "execute_result"
    }
   ],
   "source": [
    "words = open(\"names.txt\", \"r\").read().splitlines()\n",
    "words[:3], len(words)"
   ]
  },
  {
   "cell_type": "code",
   "execution_count": 16,
   "id": "d5250c42",
   "metadata": {},
   "outputs": [
    {
     "name": "stdout",
     "output_type": "stream",
     "text": [
      "{1: 'a', 2: 'b', 3: 'c', 4: 'd', 5: 'e', 6: 'f', 7: 'g', 8: 'h', 9: 'i', 10: 'j', 11: 'k', 12: 'l', 13: 'm', 14: 'n', 15: 'o', 16: 'p', 17: 'q', 18: 'r', 19: 's', 20: 't', 21: 'u', 22: 'v', 23: 'w', 24: 'x', 25: 'y', 26: 'z', 0: '.'}\n"
     ]
    }
   ],
   "source": [
    "chars = sorted(list(set(\"\".join(words))))\n",
    "stoi = {s : i+1 for i, s in enumerate(chars)}\n",
    "stoi['.'] = 0\n",
    "itos = {i : s for s,i in stoi.items()}\n",
    "print(itos)"
   ]
  },
  {
   "cell_type": "code",
   "execution_count": 30,
   "id": "490aff5a",
   "metadata": {},
   "outputs": [
    {
     "name": "stdout",
     "output_type": "stream",
     "text": [
      "emma\n",
      "... -----> e\n",
      "..e -----> m\n",
      ".em -----> m\n",
      "emm -----> a\n",
      "mma -----> .\n",
      "olivia\n",
      "... -----> o\n",
      "..o -----> l\n",
      ".ol -----> i\n",
      "oli -----> v\n",
      "liv -----> i\n",
      "ivi -----> a\n",
      "via -----> .\n",
      "ava\n",
      "... -----> a\n",
      "..a -----> v\n",
      ".av -----> a\n",
      "ava -----> .\n",
      "isabella\n",
      "... -----> i\n",
      "..i -----> s\n",
      ".is -----> a\n",
      "isa -----> b\n",
      "sab -----> e\n",
      "abe -----> l\n",
      "bel -----> l\n",
      "ell -----> a\n",
      "lla -----> .\n",
      "sophia\n",
      "... -----> s\n",
      "..s -----> o\n",
      ".so -----> p\n",
      "sop -----> h\n",
      "oph -----> i\n",
      "phi -----> a\n",
      "hia -----> .\n"
     ]
    }
   ],
   "source": [
    "block_size = 3 # context length\n",
    "X, Y = [], []\n",
    "\n",
    "for w in words[:5]:\n",
    "    print(w)\n",
    "    context = [0]*block_size\n",
    "    w = w + '.'\n",
    "    for ch in w:\n",
    "        ix = stoi[ch]\n",
    "        X.append(context)\n",
    "        Y.append(ix)\n",
    "        print(''.join(itos[i] for i in context), '----->', itos[ix])\n",
    "        context = context[1:] + [ix]\n",
    "X = torch.tensor(X)\n",
    "Y = torch.tensor(Y)"
   ]
  },
  {
   "cell_type": "code",
   "execution_count": 31,
   "id": "2312171a",
   "metadata": {},
   "outputs": [
    {
     "data": {
      "text/plain": [
       "(torch.Size([32, 3]), torch.int64, torch.Size([32]), torch.int64)"
      ]
     },
     "execution_count": 31,
     "metadata": {},
     "output_type": "execute_result"
    }
   ],
   "source": [
    "X.shape, X.dtype, Y.shape, Y.dtype"
   ]
  },
  {
   "cell_type": "code",
   "execution_count": 115,
   "id": "17afed32",
   "metadata": {},
   "outputs": [],
   "source": [
    "C = torch.randn((27,2))"
   ]
  },
  {
   "cell_type": "code",
   "execution_count": 116,
   "id": "2cd8828e",
   "metadata": {},
   "outputs": [
    {
     "data": {
      "text/plain": [
       "tensor([-1.3788, -0.9180])"
      ]
     },
     "execution_count": 116,
     "metadata": {},
     "output_type": "execute_result"
    }
   ],
   "source": [
    "C[5]"
   ]
  },
  {
   "cell_type": "code",
   "execution_count": 117,
   "id": "a862e062",
   "metadata": {},
   "outputs": [
    {
     "data": {
      "text/plain": [
       "tensor([-1.3788, -0.9180])"
      ]
     },
     "execution_count": 117,
     "metadata": {},
     "output_type": "execute_result"
    }
   ],
   "source": [
    "F.one_hot(torch.tensor(5), num_classes=27).float() @ C"
   ]
  },
  {
   "cell_type": "code",
   "execution_count": 118,
   "id": "425ab40e",
   "metadata": {},
   "outputs": [
    {
     "data": {
      "text/plain": [
       "torch.Size([32, 3, 2])"
      ]
     },
     "execution_count": 118,
     "metadata": {},
     "output_type": "execute_result"
    }
   ],
   "source": [
    "C[X].shape"
   ]
  },
  {
   "cell_type": "code",
   "execution_count": 119,
   "id": "29221767",
   "metadata": {},
   "outputs": [],
   "source": [
    "embed = C[X]"
   ]
  },
  {
   "cell_type": "code",
   "execution_count": 120,
   "id": "54e9223f",
   "metadata": {},
   "outputs": [
    {
     "data": {
      "text/plain": [
       "torch.Size([32, 6])"
      ]
     },
     "execution_count": 120,
     "metadata": {},
     "output_type": "execute_result"
    }
   ],
   "source": [
    "torch.cat(torch.unbind(embed, dim=1), dim=1).shape"
   ]
  },
  {
   "cell_type": "code",
   "execution_count": 121,
   "id": "4224677e",
   "metadata": {},
   "outputs": [
    {
     "data": {
      "text/plain": [
       "torch.Size([32, 6])"
      ]
     },
     "execution_count": 121,
     "metadata": {},
     "output_type": "execute_result"
    }
   ],
   "source": [
    "embed.view(32, 6).shape"
   ]
  },
  {
   "cell_type": "code",
   "execution_count": 122,
   "id": "f2b92009",
   "metadata": {},
   "outputs": [
    {
     "data": {
      "text/plain": [
       "True"
      ]
     },
     "execution_count": 122,
     "metadata": {},
     "output_type": "execute_result"
    }
   ],
   "source": [
    "torch.allclose(torch.cat(torch.unbind(embed, dim=1), dim=1), embed.view(32, -1))"
   ]
  },
  {
   "cell_type": "code",
   "execution_count": 123,
   "id": "4bc608a2",
   "metadata": {},
   "outputs": [
    {
     "data": {
      "text/plain": [
       "(torch.Size([6, 100]), torch.Size([100]))"
      ]
     },
     "execution_count": 123,
     "metadata": {},
     "output_type": "execute_result"
    }
   ],
   "source": [
    "W1 = torch.randn((6, 100))\n",
    "b = torch.randn(100)\n",
    "\n",
    "W1.shape, b.shape"
   ]
  },
  {
   "cell_type": "code",
   "execution_count": 124,
   "id": "6dc82ae0",
   "metadata": {},
   "outputs": [],
   "source": [
    "h = torch.tanh(embed.view(-1, 6) @ W1 + b)"
   ]
  },
  {
   "cell_type": "code",
   "execution_count": 125,
   "id": "a938eb06",
   "metadata": {},
   "outputs": [
    {
     "data": {
      "text/plain": [
       "(tensor(1.), tensor(-1.))"
      ]
     },
     "execution_count": 125,
     "metadata": {},
     "output_type": "execute_result"
    }
   ],
   "source": [
    "h.max(), h.min()"
   ]
  },
  {
   "cell_type": "code",
   "execution_count": 126,
   "id": "73f97f18",
   "metadata": {},
   "outputs": [
    {
     "data": {
      "text/plain": [
       "(torch.Size([100, 27]), torch.Size([27]))"
      ]
     },
     "execution_count": 126,
     "metadata": {},
     "output_type": "execute_result"
    }
   ],
   "source": [
    "W2 = torch.randn((100, 27))\n",
    "b2 = torch.randn(27)\n",
    "\n",
    "W2.shape, b2.shape"
   ]
  },
  {
   "cell_type": "code",
   "execution_count": 127,
   "id": "6b0cb451",
   "metadata": {},
   "outputs": [],
   "source": [
    "logits = h @ W2 + b2"
   ]
  },
  {
   "cell_type": "code",
   "execution_count": 128,
   "id": "3783ccc5",
   "metadata": {},
   "outputs": [
    {
     "data": {
      "text/plain": [
       "torch.Size([32, 27])"
      ]
     },
     "execution_count": 128,
     "metadata": {},
     "output_type": "execute_result"
    }
   ],
   "source": [
    "logits.shape"
   ]
  },
  {
   "cell_type": "code",
   "execution_count": 129,
   "id": "150052a6",
   "metadata": {},
   "outputs": [],
   "source": [
    "counts = logits.exp()"
   ]
  },
  {
   "cell_type": "code",
   "execution_count": 130,
   "id": "35a1e3e5",
   "metadata": {},
   "outputs": [],
   "source": [
    "prob = counts / counts.sum(1, keepdims=True)"
   ]
  },
  {
   "cell_type": "code",
   "execution_count": 131,
   "id": "e99a2ab3",
   "metadata": {},
   "outputs": [
    {
     "data": {
      "text/plain": [
       "tensor([7.3747e-08, 1.5062e-03, 9.8346e-04, 6.3733e-12, 6.4747e-06, 8.5408e-08,\n",
       "        2.1884e-05, 2.8229e-13, 5.2777e-08, 2.3752e-02, 7.6170e-10, 2.2334e-01,\n",
       "        1.5659e-03, 1.7326e-09, 5.4590e-20, 8.1002e-02, 1.0532e-10, 2.2040e-10,\n",
       "        1.6080e-14, 1.9203e-04, 7.9729e-12, 3.3736e-05, 2.9409e-08, 6.9668e-13,\n",
       "        2.8155e-01, 3.1396e-10, 4.6177e-05, 4.6805e-10, 1.5679e-06, 2.1458e-12,\n",
       "        8.3028e-07, 1.3051e-05])"
      ]
     },
     "execution_count": 131,
     "metadata": {},
     "output_type": "execute_result"
    }
   ],
   "source": [
    "prob[torch.arange(32), Y]"
   ]
  },
  {
   "cell_type": "code",
   "execution_count": 141,
   "id": "d579e753",
   "metadata": {},
   "outputs": [
    {
     "data": {
      "text/plain": [
       "tensor(16.4618)"
      ]
     },
     "execution_count": 141,
     "metadata": {},
     "output_type": "execute_result"
    }
   ],
   "source": [
    "loss = -prob[torch.arange(32), Y].log().mean()\n",
    "loss"
   ]
  },
  {
   "cell_type": "code",
   "execution_count": 140,
   "id": "a9c0b58f",
   "metadata": {},
   "outputs": [
    {
     "data": {
      "text/plain": [
       "tensor(16.4618)"
      ]
     },
     "execution_count": 140,
     "metadata": {},
     "output_type": "execute_result"
    }
   ],
   "source": [
    "F.cross_entropy(logits, Y)"
   ]
  },
  {
   "cell_type": "markdown",
   "id": "72765e11",
   "metadata": {},
   "source": [
    "## Cleaned up version"
   ]
  },
  {
   "cell_type": "code",
   "execution_count": 363,
   "id": "c9c7c519",
   "metadata": {},
   "outputs": [],
   "source": [
    "def build_dataset(words):\n",
    "    \n",
    "    block_size = 3 # context length\n",
    "    X, Y = [], []\n",
    "\n",
    "    for w in words:\n",
    "    #     print(w)\n",
    "        context = [0]*block_size\n",
    "        w = w + '.'\n",
    "        for ch in w:\n",
    "            ix = stoi[ch]\n",
    "            X.append(context)\n",
    "            Y.append(ix)\n",
    "    #         print(''.join(itos[i] for i in context), '----->', itos[ix])\n",
    "            context = context[1:] + [ix]\n",
    "    X = torch.tensor(X)\n",
    "    Y = torch.tensor(Y)\n",
    "    return X, Y"
   ]
  },
  {
   "cell_type": "code",
   "execution_count": 366,
   "id": "d72f934f",
   "metadata": {},
   "outputs": [],
   "source": [
    "n1 = int(0.8*(len(words)))\n",
    "n2 = int(0.9*(len(words)))\n",
    "\n",
    "X_train, y_train = build_dataset(words[:n1])\n",
    "X_dev, y_dev = build_dataset(words[n1:n2])\n",
    "X_test, y_test = build_dataset(words[n2:])"
   ]
  },
  {
   "cell_type": "code",
   "execution_count": 367,
   "id": "84d21678",
   "metadata": {},
   "outputs": [
    {
     "data": {
      "text/plain": [
       "(torch.Size([182778, 3]),\n",
       " torch.Size([182778]),\n",
       " torch.Size([22633, 3]),\n",
       " torch.Size([22633]),\n",
       " torch.Size([22735, 3]),\n",
       " torch.Size([22735]))"
      ]
     },
     "execution_count": 367,
     "metadata": {},
     "output_type": "execute_result"
    }
   ],
   "source": [
    "X_train.shape, y_train.shape, X_dev.shape, y_dev.shape, X_test.shape, y_test.shape, "
   ]
  },
  {
   "cell_type": "code",
   "execution_count": 437,
   "id": "a44f905b",
   "metadata": {},
   "outputs": [],
   "source": [
    "g = torch.Generator().manual_seed(2147483647)\n",
    "C = torch.randn((27,10))\n",
    "W1 = torch.randn((30, 300))\n",
    "b1 = torch.randn(300)\n",
    "W2 = torch.randn((300, 27))\n",
    "b2 = torch.randn(27)\n",
    "\n",
    "parameters = [C, W1, b1, W2, b2]"
   ]
  },
  {
   "cell_type": "code",
   "execution_count": 438,
   "id": "ea9452e1",
   "metadata": {},
   "outputs": [
    {
     "data": {
      "text/plain": [
       "17697"
      ]
     },
     "execution_count": 438,
     "metadata": {},
     "output_type": "execute_result"
    }
   ],
   "source": [
    "sum(p.nelement() for p in parameters)"
   ]
  },
  {
   "cell_type": "code",
   "execution_count": 439,
   "id": "47eee586",
   "metadata": {},
   "outputs": [],
   "source": [
    "for p in parameters:\n",
    "    p.requires_grad = True"
   ]
  },
  {
   "cell_type": "code",
   "execution_count": 440,
   "id": "0f0c05c8",
   "metadata": {},
   "outputs": [
    {
     "data": {
      "text/plain": [
       "torch.Size([1000])"
      ]
     },
     "execution_count": 440,
     "metadata": {},
     "output_type": "execute_result"
    }
   ],
   "source": [
    "lre = torch.linspace(-3, 0, steps = 1000)\n",
    "lrs = 10 ** lre\n",
    "lrs.shape"
   ]
  },
  {
   "cell_type": "code",
   "execution_count": 445,
   "id": "d8134e87",
   "metadata": {},
   "outputs": [
    {
     "name": "stdout",
     "output_type": "stream",
     "text": [
      "epoch: 1, training loss: 2.2223, validation loss: 2.8618\n",
      "epoch: 2001, training loss: 1.9269, validation loss: 2.5002\n",
      "epoch: 4001, training loss: 2.3494, validation loss: 2.0611\n",
      "epoch: 6001, training loss: 1.8800, validation loss: 2.7169\n",
      "epoch: 8001, training loss: 1.7848, validation loss: 2.3725\n",
      "epoch: 10001, training loss: 2.1874, validation loss: 2.1815\n",
      "epoch: 12001, training loss: 1.9738, validation loss: 2.1180\n",
      "epoch: 14001, training loss: 2.2982, validation loss: 2.2361\n",
      "epoch: 16001, training loss: 2.2282, validation loss: 2.5089\n",
      "epoch: 18001, training loss: 1.8204, validation loss: 2.0717\n",
      "epoch: 20001, training loss: 1.7439, validation loss: 2.4989\n",
      "epoch: 22001, training loss: 2.1031, validation loss: 2.2280\n",
      "epoch: 24001, training loss: 2.4291, validation loss: 2.2066\n",
      "epoch: 26001, training loss: 1.9766, validation loss: 2.6143\n",
      "epoch: 28001, training loss: 1.8027, validation loss: 2.4425\n",
      "epoch: 30001, training loss: 2.2747, validation loss: 2.5886\n",
      "epoch: 32001, training loss: 2.0396, validation loss: 2.2329\n",
      "epoch: 34001, training loss: 2.1875, validation loss: 2.0814\n",
      "epoch: 36001, training loss: 2.2764, validation loss: 2.4832\n",
      "epoch: 38001, training loss: 1.8763, validation loss: 2.6811\n",
      "epoch: 40001, training loss: 2.1220, validation loss: 2.9807\n",
      "epoch: 42001, training loss: 2.2375, validation loss: 3.0100\n",
      "epoch: 44001, training loss: 2.1741, validation loss: 2.6909\n",
      "epoch: 46001, training loss: 2.2209, validation loss: 2.4947\n",
      "epoch: 48001, training loss: 2.1989, validation loss: 2.0119\n"
     ]
    }
   ],
   "source": [
    "for i in range(50000):\n",
    "    \n",
    "    # Minibatches\n",
    "    ix = torch.randint(0, X_train.shape[0], (32,))\n",
    "    \n",
    "    # Forward Pass\n",
    "    embed = C[X_train[ix]]\n",
    "    h = torch.tanh(embed.view(-1, 30) @ W1 + b1)\n",
    "    logits = h @ W2 + b2\n",
    "    loss = F.cross_entropy(logits, y_train[ix])\n",
    "    \n",
    "    # Backward Pass\n",
    "    for p in parameters:\n",
    "        p.grad = None\n",
    "    loss.backward()\n",
    "\n",
    "    # Update Gradients\n",
    "    lr = 0.01\n",
    "    for p in parameters:\n",
    "        p.data += -lr * p.grad  # 0.1 is Learning Rate\n",
    "        \n",
    "    # Validation\n",
    "    \n",
    "    idx = torch.randint(0, X_dev.shape[0], (32,))\n",
    "    embed_val = C[X_dev[idx]]\n",
    "    h_val = torch.tanh(embed_val.view(-1, 30) @ W1 + b1)\n",
    "    logits_val = h_val @ W2 + b2\n",
    "    loss_val = F.cross_entropy(logits_val, y_dev[idx])\n",
    "    \n",
    "    # Stats\n",
    "    \n",
    "    lossi.append(loss.item())\n",
    "    steps.append(i)\n",
    "    \n",
    "    if i % 2000 == 0:\n",
    "        print(f'epoch: {i+1}, training loss: {loss.item():.4f}, validation loss: {loss_val.item():.4f}')\n",
    "\n",
    "        \n",
    "# print(loss.item())"
   ]
  },
  {
   "cell_type": "code",
   "execution_count": 448,
   "id": "a6ddddce",
   "metadata": {},
   "outputs": [
    {
     "name": "stdout",
     "output_type": "stream",
     "text": [
      "tensor(2.4489, grad_fn=<NllLossBackward0>)\n"
     ]
    }
   ],
   "source": [
    "embed = C[X_test]\n",
    "h = torch.tanh(embed.view(-1, 30) @ W1 + b1)\n",
    "logits = h @ W2 + b2\n",
    "loss = F.cross_entropy(logits, y_test)\n",
    "print(loss)"
   ]
  },
  {
   "cell_type": "code",
   "execution_count": 461,
   "id": "8bc6d1c2",
   "metadata": {},
   "outputs": [
    {
     "name": "stdout",
     "output_type": "stream",
     "text": [
      "junide.\n",
      "janasia.\n",
      "pres.\n",
      "amaira.\n",
      "koibrito.\n",
      "sabellee.\n",
      "kalinaaura.\n",
      "brenias.\n",
      "deyah.\n",
      "rwy.\n",
      "bras.\n",
      "jaina.\n",
      "larie.\n",
      "fartumeryn.\n",
      "demiy.\n",
      "ponneliah.\n",
      "jaylinora.\n",
      "yarion.\n",
      "kaelandryed.\n",
      "miki.\n"
     ]
    }
   ],
   "source": [
    "g = torch.Generator().manual_seed(2147483647)\n",
    "\n",
    "for _ in range(20):\n",
    "    out = []\n",
    "    context = [0]*block_size\n",
    "    while True:\n",
    "        emb = C[torch.tensor([context])]\n",
    "        h = torch.tanh(emb.view(1, -1) @ W1 + b1)\n",
    "        logits = h @ W2 + b2\n",
    "        probs = F.softmax(logits, dim=1)\n",
    "        ix = torch.multinomial(probs, num_samples=1, generator=g).item()\n",
    "        context = context[1:] + [ix]\n",
    "        out.append(ix)\n",
    "        if ix == 0:\n",
    "            break\n",
    "            \n",
    "    print(''.join(itos[i] for i in out))"
   ]
  },
  {
   "cell_type": "code",
   "execution_count": null,
   "id": "edd374e5",
   "metadata": {},
   "outputs": [],
   "source": []
  }
 ],
 "metadata": {
  "kernelspec": {
   "display_name": "Python 3 (ipykernel)",
   "language": "python",
   "name": "python3"
  },
  "language_info": {
   "codemirror_mode": {
    "name": "ipython",
    "version": 3
   },
   "file_extension": ".py",
   "mimetype": "text/x-python",
   "name": "python",
   "nbconvert_exporter": "python",
   "pygments_lexer": "ipython3",
   "version": "3.10.12"
  }
 },
 "nbformat": 4,
 "nbformat_minor": 5
}
